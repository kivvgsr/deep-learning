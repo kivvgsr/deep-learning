{
  "nbformat": 4,
  "nbformat_minor": 0,
  "metadata": {
    "colab": {
      "provenance": [],
      "gpuType": "T4",
      "authorship_tag": "ABX9TyPuCnTTEJ4kZD9j3CHjOfI9",
      "include_colab_link": true
    },
    "kernelspec": {
      "name": "python3",
      "display_name": "Python 3"
    },
    "language_info": {
      "name": "python"
    },
    "accelerator": "GPU"
  },
  "cells": [
    {
      "cell_type": "markdown",
      "metadata": {
        "id": "view-in-github",
        "colab_type": "text"
      },
      "source": [
        "<a href=\"https://colab.research.google.com/github/kivvgsr/deep-learning/blob/main/BERT_demo.ipynb\" target=\"_parent\"><img src=\"https://colab.research.google.com/assets/colab-badge.svg\" alt=\"Open In Colab\"/></a>"
      ]
    },
    {
      "cell_type": "code",
      "source": [
        "!pip uninstall tensorflow tensorflow-text tensorflow-hub -y\n"
      ],
      "metadata": {
        "colab": {
          "base_uri": "https://localhost:8080/"
        },
        "id": "-_XID0XBM2lU",
        "outputId": "7ba68123-129b-482c-b166-19d32719ee64"
      },
      "execution_count": 1,
      "outputs": [
        {
          "output_type": "stream",
          "name": "stdout",
          "text": [
            "Found existing installation: tensorflow 2.16.1\n",
            "Uninstalling tensorflow-2.16.1:\n",
            "  Successfully uninstalled tensorflow-2.16.1\n",
            "Found existing installation: tensorflow-text 2.16.1\n",
            "Uninstalling tensorflow-text-2.16.1:\n",
            "  Successfully uninstalled tensorflow-text-2.16.1\n",
            "Found existing installation: tensorflow-hub 0.16.1\n",
            "Uninstalling tensorflow-hub-0.16.1:\n",
            "  Successfully uninstalled tensorflow-hub-0.16.1\n"
          ]
        }
      ]
    },
    {
      "cell_type": "code",
      "source": [
        "!pip install tensorflow tensorflow-text tensorflow-hub\n"
      ],
      "metadata": {
        "colab": {
          "base_uri": "https://localhost:8080/"
        },
        "id": "vK9vYBkGM5Ih",
        "outputId": "76a3c0ff-ed26-4197-98b0-02d3b665b5ab"
      },
      "execution_count": 2,
      "outputs": [
        {
          "output_type": "stream",
          "name": "stdout",
          "text": [
            "Collecting tensorflow\n",
            "  Using cached tensorflow-2.16.1-cp310-cp310-manylinux_2_17_x86_64.manylinux2014_x86_64.whl (589.8 MB)\n",
            "Collecting tensorflow-text\n",
            "  Using cached tensorflow_text-2.16.1-cp310-cp310-manylinux_2_17_x86_64.manylinux2014_x86_64.whl (5.2 MB)\n",
            "Collecting tensorflow-hub\n",
            "  Using cached tensorflow_hub-0.16.1-py2.py3-none-any.whl (30 kB)\n",
            "Requirement already satisfied: absl-py>=1.0.0 in /usr/local/lib/python3.10/dist-packages (from tensorflow) (1.4.0)\n",
            "Requirement already satisfied: astunparse>=1.6.0 in /usr/local/lib/python3.10/dist-packages (from tensorflow) (1.6.3)\n",
            "Requirement already satisfied: flatbuffers>=23.5.26 in /usr/local/lib/python3.10/dist-packages (from tensorflow) (24.3.25)\n",
            "Requirement already satisfied: gast!=0.5.0,!=0.5.1,!=0.5.2,>=0.2.1 in /usr/local/lib/python3.10/dist-packages (from tensorflow) (0.5.4)\n",
            "Requirement already satisfied: google-pasta>=0.1.1 in /usr/local/lib/python3.10/dist-packages (from tensorflow) (0.2.0)\n",
            "Requirement already satisfied: h5py>=3.10.0 in /usr/local/lib/python3.10/dist-packages (from tensorflow) (3.10.0)\n",
            "Requirement already satisfied: libclang>=13.0.0 in /usr/local/lib/python3.10/dist-packages (from tensorflow) (18.1.1)\n",
            "Requirement already satisfied: ml-dtypes~=0.3.1 in /usr/local/lib/python3.10/dist-packages (from tensorflow) (0.3.2)\n",
            "Requirement already satisfied: opt-einsum>=2.3.2 in /usr/local/lib/python3.10/dist-packages (from tensorflow) (3.3.0)\n",
            "Requirement already satisfied: packaging in /usr/local/lib/python3.10/dist-packages (from tensorflow) (24.0)\n",
            "Requirement already satisfied: protobuf!=4.21.0,!=4.21.1,!=4.21.2,!=4.21.3,!=4.21.4,!=4.21.5,<5.0.0dev,>=3.20.3 in /usr/local/lib/python3.10/dist-packages (from tensorflow) (3.20.3)\n",
            "Requirement already satisfied: requests<3,>=2.21.0 in /usr/local/lib/python3.10/dist-packages (from tensorflow) (2.31.0)\n",
            "Requirement already satisfied: setuptools in /usr/local/lib/python3.10/dist-packages (from tensorflow) (67.7.2)\n",
            "Requirement already satisfied: six>=1.12.0 in /usr/local/lib/python3.10/dist-packages (from tensorflow) (1.16.0)\n",
            "Requirement already satisfied: termcolor>=1.1.0 in /usr/local/lib/python3.10/dist-packages (from tensorflow) (2.4.0)\n",
            "Requirement already satisfied: typing-extensions>=3.6.6 in /usr/local/lib/python3.10/dist-packages (from tensorflow) (4.10.0)\n",
            "Requirement already satisfied: wrapt>=1.11.0 in /usr/local/lib/python3.10/dist-packages (from tensorflow) (1.14.1)\n",
            "Requirement already satisfied: grpcio<2.0,>=1.24.3 in /usr/local/lib/python3.10/dist-packages (from tensorflow) (1.62.1)\n",
            "Requirement already satisfied: tensorboard<2.17,>=2.16 in /usr/local/lib/python3.10/dist-packages (from tensorflow) (2.16.2)\n",
            "Requirement already satisfied: keras>=3.0.0 in /usr/local/lib/python3.10/dist-packages (from tensorflow) (3.1.1)\n",
            "Requirement already satisfied: tensorflow-io-gcs-filesystem>=0.23.1 in /usr/local/lib/python3.10/dist-packages (from tensorflow) (0.36.0)\n",
            "Requirement already satisfied: numpy<2.0.0,>=1.23.5 in /usr/local/lib/python3.10/dist-packages (from tensorflow) (1.25.2)\n",
            "Requirement already satisfied: tf-keras>=2.14.1 in /usr/local/lib/python3.10/dist-packages (from tensorflow-hub) (2.16.0)\n",
            "Requirement already satisfied: wheel<1.0,>=0.23.0 in /usr/local/lib/python3.10/dist-packages (from astunparse>=1.6.0->tensorflow) (0.43.0)\n",
            "Requirement already satisfied: rich in /usr/local/lib/python3.10/dist-packages (from keras>=3.0.0->tensorflow) (13.7.1)\n",
            "Requirement already satisfied: namex in /usr/local/lib/python3.10/dist-packages (from keras>=3.0.0->tensorflow) (0.0.7)\n",
            "Requirement already satisfied: optree in /usr/local/lib/python3.10/dist-packages (from keras>=3.0.0->tensorflow) (0.11.0)\n",
            "Requirement already satisfied: charset-normalizer<4,>=2 in /usr/local/lib/python3.10/dist-packages (from requests<3,>=2.21.0->tensorflow) (3.3.2)\n",
            "Requirement already satisfied: idna<4,>=2.5 in /usr/local/lib/python3.10/dist-packages (from requests<3,>=2.21.0->tensorflow) (3.6)\n",
            "Requirement already satisfied: urllib3<3,>=1.21.1 in /usr/local/lib/python3.10/dist-packages (from requests<3,>=2.21.0->tensorflow) (2.0.7)\n",
            "Requirement already satisfied: certifi>=2017.4.17 in /usr/local/lib/python3.10/dist-packages (from requests<3,>=2.21.0->tensorflow) (2024.2.2)\n",
            "Requirement already satisfied: markdown>=2.6.8 in /usr/local/lib/python3.10/dist-packages (from tensorboard<2.17,>=2.16->tensorflow) (3.6)\n",
            "Requirement already satisfied: tensorboard-data-server<0.8.0,>=0.7.0 in /usr/local/lib/python3.10/dist-packages (from tensorboard<2.17,>=2.16->tensorflow) (0.7.2)\n",
            "Requirement already satisfied: werkzeug>=1.0.1 in /usr/local/lib/python3.10/dist-packages (from tensorboard<2.17,>=2.16->tensorflow) (3.0.2)\n",
            "Requirement already satisfied: MarkupSafe>=2.1.1 in /usr/local/lib/python3.10/dist-packages (from werkzeug>=1.0.1->tensorboard<2.17,>=2.16->tensorflow) (2.1.5)\n",
            "Requirement already satisfied: markdown-it-py>=2.2.0 in /usr/local/lib/python3.10/dist-packages (from rich->keras>=3.0.0->tensorflow) (3.0.0)\n",
            "Requirement already satisfied: pygments<3.0.0,>=2.13.0 in /usr/local/lib/python3.10/dist-packages (from rich->keras>=3.0.0->tensorflow) (2.16.1)\n",
            "Requirement already satisfied: mdurl~=0.1 in /usr/local/lib/python3.10/dist-packages (from markdown-it-py>=2.2.0->rich->keras>=3.0.0->tensorflow) (0.1.2)\n",
            "Installing collected packages: tensorflow, tensorflow-text, tensorflow-hub\n",
            "Successfully installed tensorflow-2.16.1 tensorflow-hub-0.16.1 tensorflow-text-2.16.1\n"
          ]
        }
      ]
    },
    {
      "cell_type": "code",
      "source": [
        "import tensorflow as tf\n",
        "import tensorflow_hub as hub\n",
        "import tensorflow_text as text  # Import TensorFlow Text\n",
        "\n"
      ],
      "metadata": {
        "id": "sSiuQ3zJNYpc"
      },
      "execution_count": 3,
      "outputs": []
    },
    {
      "cell_type": "code",
      "source": [
        "preprocess_url = \"https://tfhub.dev/tensorflow/bert_en_uncased_preprocess/3\"\n",
        "encoder_url = \"https://tfhub.dev/tensorflow/bert_en_uncased_L-12_H-768_A-12/4\""
      ],
      "metadata": {
        "id": "Qji_NYmKNjqv"
      },
      "execution_count": 4,
      "outputs": []
    },
    {
      "cell_type": "code",
      "source": [
        "# create a hub  layer\n",
        "\n",
        "bert_preprocesse_model = hub.KerasLayer(preprocess_url)\n",
        "# layer 1"
      ],
      "metadata": {
        "id": "_TkvNjjFNrG6"
      },
      "execution_count": 6,
      "outputs": []
    },
    {
      "cell_type": "code",
      "source": [
        "text_test = ['i love python programming ',\"nice movie \",\"i love you\"]\n",
        "text_preprocessed = bert_preprocesse_model(text_test)\n",
        "text_preprocessed"
      ],
      "metadata": {
        "id": "PPxYPWW7OFfS"
      },
      "execution_count": null,
      "outputs": []
    },
    {
      "cell_type": "code",
      "source": [
        "text_preprocessed.keys()"
      ],
      "metadata": {
        "colab": {
          "base_uri": "https://localhost:8080/"
        },
        "id": "jy8xsxb_Obbp",
        "outputId": "e4ed03d5-a416-4d0f-fecd-85dd144845c0"
      },
      "execution_count": 9,
      "outputs": [
        {
          "output_type": "execute_result",
          "data": {
            "text/plain": [
              "dict_keys(['input_type_ids', 'input_mask', 'input_word_ids'])"
            ]
          },
          "metadata": {},
          "execution_count": 9
        }
      ]
    },
    {
      "cell_type": "code",
      "source": [
        "text_preprocessed['input_mask']"
      ],
      "metadata": {
        "id": "1GAI_R1zOs7t"
      },
      "execution_count": null,
      "outputs": []
    },
    {
      "cell_type": "code",
      "source": [
        "# lets create another layer .\n",
        "\n",
        "\n",
        "bert_encoding_model = hub.KerasLayer(encoder_url)\n",
        "# layer 2"
      ],
      "metadata": {
        "id": "8oS2umMlPVcO"
      },
      "execution_count": 11,
      "outputs": []
    },
    {
      "cell_type": "code",
      "source": [
        "result = bert_encoding_model(text_preprocessed)"
      ],
      "metadata": {
        "id": "FQTP5CMKP3y0"
      },
      "execution_count": 13,
      "outputs": []
    },
    {
      "cell_type": "code",
      "source": [
        "result.keys()"
      ],
      "metadata": {
        "colab": {
          "base_uri": "https://localhost:8080/"
        },
        "id": "LlpvHxxpP_T8",
        "outputId": "ede31fbb-dcbc-49cb-fd65-5c5ecb05f1fa"
      },
      "execution_count": 14,
      "outputs": [
        {
          "output_type": "execute_result",
          "data": {
            "text/plain": [
              "dict_keys(['sequence_output', 'pooled_output', 'encoder_outputs', 'default'])"
            ]
          },
          "metadata": {},
          "execution_count": 14
        }
      ]
    },
    {
      "cell_type": "code",
      "source": [
        "result['pooled_output'] # this will give the embading for the entire sentence ."
      ],
      "metadata": {
        "colab": {
          "base_uri": "https://localhost:8080/"
        },
        "id": "qePXdcWvQEAw",
        "outputId": "7046a5fd-c0bb-409d-c220-fd3d0a46ab33"
      },
      "execution_count": 15,
      "outputs": [
        {
          "output_type": "execute_result",
          "data": {
            "text/plain": [
              "<tf.Tensor: shape=(3, 768), dtype=float32, numpy=\n",
              "array([[-9.1712308e-01, -4.7935188e-01, -7.8656971e-01, ...,\n",
              "        -6.1751729e-01, -7.1026874e-01,  9.2184299e-01],\n",
              "       [-8.2308012e-01, -3.3021709e-01,  5.8038939e-02, ...,\n",
              "         1.5002133e-01, -5.3048509e-01,  8.4959561e-01],\n",
              "       [-9.1058314e-01, -3.5070521e-01, -3.2318339e-01, ...,\n",
              "        -4.5049004e-05, -7.1246207e-01,  9.1118830e-01]], dtype=float32)>"
            ]
          },
          "metadata": {},
          "execution_count": 15
        }
      ]
    },
    {
      "cell_type": "markdown",
      "source": [
        "3 hence we can use this vectors in our NLP for movie review classification ."
      ],
      "metadata": {
        "id": "DoTolVQsQVzQ"
      }
    },
    {
      "cell_type": "code",
      "source": [
        "result['sequence_output'] # it will give individual word embading vector\n",
        "\n",
        "# we perform padding hence we use 128"
      ],
      "metadata": {
        "colab": {
          "base_uri": "https://localhost:8080/"
        },
        "id": "9u90BgqOQU2J",
        "outputId": "2dae25bd-babd-4787-9c10-e0287241bb25"
      },
      "execution_count": 16,
      "outputs": [
        {
          "output_type": "execute_result",
          "data": {
            "text/plain": [
              "<tf.Tensor: shape=(3, 128, 768), dtype=float32, numpy=\n",
              "array([[[-0.07900573,  0.36335105, -0.21101636, ..., -0.17183766,\n",
              "          0.16299722,  0.6724264 ],\n",
              "        [ 0.27883533,  0.43716174, -0.35764766, ..., -0.04463656,\n",
              "          0.3831523 ,  0.5887985 ],\n",
              "        [ 1.2037663 ,  1.0727005 ,  0.48408723, ...,  0.24921016,\n",
              "          0.40730962,  0.40481848],\n",
              "        ...,\n",
              "        [ 0.08630043,  0.1935382 ,  0.47540027, ...,  0.18880142,\n",
              "         -0.06474131,  0.3131855 ],\n",
              "        [ 0.15887073,  0.28572664,  0.37340802, ...,  0.09309121,\n",
              "         -0.04969536,  0.38761148],\n",
              "        [-0.08079805, -0.09572835,  0.26809752, ...,  0.13979551,\n",
              "         -0.06315858,  0.27288333]],\n",
              "\n",
              "       [[-0.04972776, -0.16134055, -0.04497422, ..., -0.19434953,\n",
              "          0.15166795,  0.07051366],\n",
              "        [ 0.40138167, -0.7161993 ,  0.79605234, ..., -0.34071288,\n",
              "          0.01467816, -0.28204957],\n",
              "        [ 0.15850028, -0.13599601, -0.31225592, ..., -0.31121272,\n",
              "         -0.1099389 , -0.5535948 ],\n",
              "        ...,\n",
              "        [-0.07264652, -0.22785576,  0.50889295, ..., -0.02908422,\n",
              "          0.10880314,  0.17614257],\n",
              "        [-0.35651937, -0.6121801 ,  0.1010708 , ...,  0.15914905,\n",
              "          0.01639805, -0.17355072],\n",
              "        [-0.08667788, -0.28234956,  0.47228304, ...,  0.03270618,\n",
              "          0.10365127,  0.07469992]],\n",
              "\n",
              "       [[-0.01006048,  0.13241586,  0.12813339, ..., -0.49293286,\n",
              "          0.03602864,  0.14160997],\n",
              "        [ 0.23226982,  0.24824241, -0.10844088, ..., -0.352344  ,\n",
              "          0.33104563,  0.33795822],\n",
              "        [ 0.9301534 ,  0.9138469 ,  1.1216171 , ..., -0.947819  ,\n",
              "         -0.00185138,  0.04067502],\n",
              "        ...,\n",
              "        [-0.09026153,  0.2571833 ,  0.61108744, ..., -0.136392  ,\n",
              "         -0.3608996 , -0.03731986],\n",
              "        [-0.21070209,  0.20111115,  0.6872064 , ..., -0.1235001 ,\n",
              "         -0.29639024, -0.19675983],\n",
              "        [-0.5015774 , -0.00955857,  0.49084938, ...,  0.13534324,\n",
              "         -0.20925522, -0.3869284 ]]], dtype=float32)>"
            ]
          },
          "metadata": {},
          "execution_count": 16
        }
      ]
    }
  ]
}