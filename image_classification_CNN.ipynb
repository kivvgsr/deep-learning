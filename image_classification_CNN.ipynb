{
  "nbformat": 4,
  "nbformat_minor": 0,
  "metadata": {
    "colab": {
      "provenance": [],
      "gpuType": "T4",
      "authorship_tag": "ABX9TyOd1pOOwoF7n79D/ahXtYZU",
      "include_colab_link": true
    },
    "kernelspec": {
      "name": "python3",
      "display_name": "Python 3"
    },
    "language_info": {
      "name": "python"
    },
    "accelerator": "GPU"
  },
  "cells": [
    {
      "cell_type": "markdown",
      "metadata": {
        "id": "view-in-github",
        "colab_type": "text"
      },
      "source": [
        "<a href=\"https://colab.research.google.com/github/kivvgsr/deep-learning/blob/main/image_classification_CNN.ipynb\" target=\"_parent\"><img src=\"https://colab.research.google.com/assets/colab-badge.svg\" alt=\"Open In Colab\"/></a>"
      ]
    },
    {
      "cell_type": "code",
      "execution_count": 1,
      "metadata": {
        "id": "mC0d02CSeG9s"
      },
      "outputs": [],
      "source": [
        "import tensorflow as tf\n",
        "from tensorflow.keras import datasets,layers,models\n",
        "import matplotlib.pyplot as plt\n",
        "import numpy as np"
      ]
    },
    {
      "cell_type": "code",
      "source": [
        "(x_train,y_train),(x_test,y_test) = datasets.cifar10.load_data()"
      ],
      "metadata": {
        "colab": {
          "base_uri": "https://localhost:8080/"
        },
        "id": "gY7oOTKHeeRW",
        "outputId": "6001fcd9-ff25-415d-b582-6bf28a84c2e0"
      },
      "execution_count": 2,
      "outputs": [
        {
          "output_type": "stream",
          "name": "stdout",
          "text": [
            "Downloading data from https://www.cs.toronto.edu/~kriz/cifar-10-python.tar.gz\n",
            "170498071/170498071 [==============================] - 4s 0us/step\n"
          ]
        }
      ]
    },
    {
      "cell_type": "code",
      "source": [
        "x_train.shape"
      ],
      "metadata": {
        "colab": {
          "base_uri": "https://localhost:8080/"
        },
        "id": "y7wZKADnewwl",
        "outputId": "47b51c51-7029-4a16-8c36-dcc7f4fddae8"
      },
      "execution_count": 3,
      "outputs": [
        {
          "output_type": "execute_result",
          "data": {
            "text/plain": [
              "(50000, 32, 32, 3)"
            ]
          },
          "metadata": {},
          "execution_count": 3
        }
      ]
    },
    {
      "cell_type": "code",
      "source": [
        "x_test.shape"
      ],
      "metadata": {
        "colab": {
          "base_uri": "https://localhost:8080/"
        },
        "id": "j-58Ym8VeyZc",
        "outputId": "2cd51833-67ca-4634-8bad-4159f1f6e334"
      },
      "execution_count": 4,
      "outputs": [
        {
          "output_type": "execute_result",
          "data": {
            "text/plain": [
              "(10000, 32, 32, 3)"
            ]
          },
          "metadata": {},
          "execution_count": 4
        }
      ]
    },
    {
      "cell_type": "markdown",
      "source": [
        "#data exploration"
      ],
      "metadata": {
        "id": "KwLS7Ei9g1e-"
      }
    },
    {
      "cell_type": "code",
      "source": [
        "plt.figure(figsize =(15,2))\n",
        "plt.imshow(x_train[0])"
      ],
      "metadata": {
        "colab": {
          "base_uri": "https://localhost:8080/",
          "height": 234
        },
        "id": "WIeJ076xe5Vh",
        "outputId": "c30c295a-b8a4-400e-a6bc-21c17cdef8b0"
      },
      "execution_count": 5,
      "outputs": [
        {
          "output_type": "execute_result",
          "data": {
            "text/plain": [
              "<matplotlib.image.AxesImage at 0x7b662af08430>"
            ]
          },
          "metadata": {},
          "execution_count": 5
        },
        {
          "output_type": "display_data",
          "data": {
            "text/plain": [
              "<Figure size 1500x200 with 1 Axes>"
            ],
            "image/png": "[encoded data removed]"
          },
          "metadata": {}
        }
      ]
    },
    {
      "cell_type": "code",
      "source": [
        "y_train[:5] #here it is the two dimenssional thing lets convert ot into the one dimentional"
      ],
      "metadata": {
        "colab": {
          "base_uri": "https://localhost:8080/"
        },
        "id": "IpDv_q2bfqmx",
        "outputId": "2a7b5c0d-e257-4fd4-ab98-baa82e548b86"
      },
      "execution_count": 6,
      "outputs": [
        {
          "output_type": "execute_result",
          "data": {
            "text/plain": [
              "array([[6],\n",
              "       [9],\n",
              "       [9],\n",
              "       [4],\n",
              "       [1]], dtype=uint8)"
            ]
          },
          "metadata": {},
          "execution_count": 6
        }
      ]
    },
    {
      "cell_type": "code",
      "source": [
        "y_train= y_train.reshape(-1,)\n",
        "y_train[:5]"
      ],
      "metadata": {
        "colab": {
          "base_uri": "https://localhost:8080/"
        },
        "id": "kLA-xMHvfys4",
        "outputId": "7faa03e0-fd52-4d76-e450-2c73ddce3b4e"
      },
      "execution_count": 7,
      "outputs": [
        {
          "output_type": "execute_result",
          "data": {
            "text/plain": [
              "array([6, 9, 9, 4, 1], dtype=uint8)"
            ]
          },
          "metadata": {},
          "execution_count": 7
        }
      ]
    },
    {
      "cell_type": "code",
      "source": [
        "classes = ['airplane','automobiles','bird','cat','deer','dog','frog','horse','ship','truck']"
      ],
      "metadata": {
        "id": "hRvJ5uTif73s"
      },
      "execution_count": 8,
      "outputs": []
    },
    {
      "cell_type": "code",
      "source": [
        "def plot_samples(x,y,index):\n",
        "  plt.figure(figsize=(15,2))\n",
        "  plt.imshow(x[index])\n",
        "  plt.xlabel(classes[y[index]])"
      ],
      "metadata": {
        "id": "S_6kaKQpgL8T"
      },
      "execution_count": 9,
      "outputs": []
    },
    {
      "cell_type": "code",
      "source": [
        "plot_samples(x_train,y_train,0)"
      ],
      "metadata": {
        "colab": {
          "base_uri": "https://localhost:8080/",
          "height": 237
        },
        "id": "4uDoUU3rgdru",
        "outputId": "dd938dbd-b023-4d19-a4f3-5c8ae6d6dfcf"
      },
      "execution_count": 10,
      "outputs": [
        {
          "output_type": "display_data",
          "data": {
            "text/plain": [
              "<Figure size 1500x200 with 1 Axes>"
            ],
            "image/png": "[encoded data removed]"
          },
          "metadata": {}
        }
      ]
    },
    {
      "cell_type": "markdown",
      "source": [
        "#normalization"
      ],
      "metadata": {
        "id": "4jsDL62gg4S4"
      }
    },
    {
      "cell_type": "code",
      "source": [
        "x_train =x_train/255"
      ],
      "metadata": {
        "id": "PzsmJR4Xg_KC"
      },
      "execution_count": 11,
      "outputs": []
    },
    {
      "cell_type": "code",
      "source": [
        "x_test = x_test/255"
      ],
      "metadata": {
        "id": "Z8pNINuVhA0X"
      },
      "execution_count": 12,
      "outputs": []
    },
    {
      "cell_type": "code",
      "source": [
        "ann = models.Sequential([\n",
        "    layers.Flatten(input_shape=(32,32,3)),\n",
        "    layers.Dense(3000,activation='relu'),\n",
        "    layers.Dense(1000,activation='relu'),\n",
        "    layers.Dense(10,activation='sigmoid')\n",
        "])\n",
        "\n",
        "ann.compile(optimizer = 'SGD',\n",
        "            loss='sparse_categorical_crossentropy',\n",
        "            metrics = ['accuracy'])\n",
        "ann.fit(x_train,y_train,epochs=5)"
      ],
      "metadata": {
        "colab": {
          "base_uri": "https://localhost:8080/"
        },
        "id": "eewAajfBhM7v",
        "outputId": "c18e7946-4cf1-4de4-a672-4fcf84c30638"
      },
      "execution_count": 13,
      "outputs": [
        {
          "output_type": "stream",
          "name": "stdout",
          "text": [
            "Epoch 1/5\n",
            "1563/1563 [==============================] - 9s 4ms/step - loss: 1.8126 - accuracy: 0.3540\n",
            "Epoch 2/5\n",
            "1563/1563 [==============================] - 7s 5ms/step - loss: 1.6225 - accuracy: 0.4284\n",
            "Epoch 3/5\n",
            "1563/1563 [==============================] - 7s 5ms/step - loss: 1.5413 - accuracy: 0.4590\n",
            "Epoch 4/5\n",
            "1563/1563 [==============================] - 7s 5ms/step - loss: 1.4833 - accuracy: 0.4762\n",
            "Epoch 5/5\n",
            "1563/1563 [==============================] - 7s 5ms/step - loss: 1.4326 - accuracy: 0.4967\n"
          ]
        },
        {
          "output_type": "execute_result",
          "data": {
            "text/plain": [
              "<keras.src.callbacks.History at 0x7b662a4f7070>"
            ]
          },
          "metadata": {},
          "execution_count": 13
        }
      ]
    },
    {
      "cell_type": "code",
      "source": [
        "from sklearn.metrics import confusion_matrix ,  classification_report\n",
        "import numpy as np\n",
        "y_pred = ann.predict(x_test)\n",
        "y_pred_classes = [np.argmax(element) for element in y_pred]\n",
        "print('classification report: \\n',classification_report(y_test,y_pred_classes))"
      ],
      "metadata": {
        "id": "_VORaUVnjB4v",
        "outputId": "49b4b2ae-24c9-4f02-8dd3-ea237ea7283a",
        "colab": {
          "base_uri": "https://localhost:8080/"
        }
      },
      "execution_count": 14,
      "outputs": [
        {
          "output_type": "stream",
          "name": "stdout",
          "text": [
            "313/313 [==============================] - 1s 2ms/step\n",
            "classification report: \n",
            "               precision    recall  f1-score   support\n",
            "\n",
            "           0       0.37      0.78      0.50      1000\n",
            "           1       0.72      0.45      0.55      1000\n",
            "           2       0.37      0.35      0.36      1000\n",
            "           3       0.30      0.50      0.38      1000\n",
            "           4       0.58      0.16      0.25      1000\n",
            "           5       0.39      0.36      0.37      1000\n",
            "           6       0.54      0.52      0.53      1000\n",
            "           7       0.55      0.55      0.55      1000\n",
            "           8       0.80      0.30      0.44      1000\n",
            "           9       0.53      0.61      0.56      1000\n",
            "\n",
            "    accuracy                           0.46     10000\n",
            "   macro avg       0.51      0.46      0.45     10000\n",
            "weighted avg       0.51      0.46      0.45     10000\n",
            "\n"
          ]
        }
      ]
    },
    {
      "cell_type": "markdown",
      "source": [
        "#lets use the convolution neural network"
      ],
      "metadata": {
        "id": "ToSylIVDjx-x"
      }
    },
    {
      "cell_type": "code",
      "source": [
        "cnn = models.Sequential([\n",
        "\n",
        "    #cnn layers\n",
        "    layers.Conv2D(filters=42 , kernel_size = (3,3) ,activation = 'relu',input_shape=(32,32,3)),\n",
        "    layers.MaxPool2D((2,2)),\n",
        "\n",
        "    layers.Conv2D(filters=52 , kernel_size = (3,3) ,activation = 'relu'),\n",
        "    layers.MaxPool2D((2,2)),\n",
        "\n",
        "\n",
        "    #dense network\n",
        "\n",
        "    layers.Flatten(), # in the middel of the layer there is no need to write the input shape the network will figure it out the size\n",
        "    layers.Dense(64,activation='relu'),\n",
        "\n",
        "    layers.Dense(10,activation='softmax') # here by using the sofmax we will get the values between the 0,1\n",
        "])\n",
        "\n",
        "\n",
        "cnn.compile(optimizer = 'SGD',\n",
        "            loss='sparse_categorical_crossentropy',\n",
        "            metrics = ['accuracy'])\n",
        "cnn.fit(x_train,y_train,epochs=10)"
      ],
      "metadata": {
        "id": "J9XnIS6Ol2zv",
        "outputId": "d376187d-d72a-42fb-a057-bdd7da0afc21",
        "colab": {
          "base_uri": "https://localhost:8080/"
        }
      },
      "execution_count": 19,
      "outputs": [
        {
          "output_type": "stream",
          "name": "stdout",
          "text": [
            "Epoch 1/10\n",
            "1563/1563 [==============================] - 8s 4ms/step - loss: 1.9984 - accuracy: 0.2750\n",
            "Epoch 2/10\n",
            "1563/1563 [==============================] - 7s 4ms/step - loss: 1.6515 - accuracy: 0.4091\n",
            "Epoch 3/10\n",
            "1563/1563 [==============================] - 7s 4ms/step - loss: 1.4693 - accuracy: 0.4752\n",
            "Epoch 4/10\n",
            "1563/1563 [==============================] - 6s 4ms/step - loss: 1.3594 - accuracy: 0.5143\n",
            "Epoch 5/10\n",
            "1563/1563 [==============================] - 7s 4ms/step - loss: 1.2730 - accuracy: 0.5518\n",
            "Epoch 6/10\n",
            "1563/1563 [==============================] - 6s 4ms/step - loss: 1.1974 - accuracy: 0.5812\n",
            "Epoch 7/10\n",
            "1563/1563 [==============================] - 7s 4ms/step - loss: 1.1310 - accuracy: 0.6034\n",
            "Epoch 8/10\n",
            "1563/1563 [==============================] - 6s 4ms/step - loss: 1.0760 - accuracy: 0.6239\n",
            "Epoch 9/10\n",
            "1563/1563 [==============================] - 7s 4ms/step - loss: 1.0297 - accuracy: 0.6414\n",
            "Epoch 10/10\n",
            "1563/1563 [==============================] - 6s 4ms/step - loss: 0.9869 - accuracy: 0.6564\n"
          ]
        },
        {
          "output_type": "execute_result",
          "data": {
            "text/plain": [
              "<keras.src.callbacks.History at 0x7b653c6f35b0>"
            ]
          },
          "metadata": {},
          "execution_count": 19
        }
      ]
    },
    {
      "cell_type": "code",
      "source": [
        "cnn.evaluate(x_test,y_test)"
      ],
      "metadata": {
        "id": "hyt2-f47pLcQ",
        "outputId": "87f8a574-4588-4b7c-9fa1-015df0d36da5",
        "colab": {
          "base_uri": "https://localhost:8080/"
        }
      },
      "execution_count": 20,
      "outputs": [
        {
          "output_type": "stream",
          "name": "stdout",
          "text": [
            "313/313 [==============================] - 1s 3ms/step - loss: 1.0472 - accuracy: 0.6343\n"
          ]
        },
        {
          "output_type": "execute_result",
          "data": {
            "text/plain": [
              "[1.047183632850647, 0.6342999935150146]"
            ]
          },
          "metadata": {},
          "execution_count": 20
        }
      ]
    },
    {
      "cell_type": "markdown",
      "source": [
        "sofmax :\n",
        "1:0.46\n",
        "2:0.56\n",
        "\n",
        "(0.46)/(0.46+0.56) = 0.4 that is with in the range of 0 1"
      ],
      "metadata": {
        "id": "ykKzOTAOmtDj"
      }
    },
    {
      "cell_type": "code",
      "source": [
        "y_test[:5]"
      ],
      "metadata": {
        "id": "uUs0w9f2nAaV",
        "outputId": "867e5d85-e14c-4492-9b5f-f65cd4c73366",
        "colab": {
          "base_uri": "https://localhost:8080/"
        }
      },
      "execution_count": 21,
      "outputs": [
        {
          "output_type": "execute_result",
          "data": {
            "text/plain": [
              "array([[3],\n",
              "       [8],\n",
              "       [8],\n",
              "       [0],\n",
              "       [6]], dtype=uint8)"
            ]
          },
          "metadata": {},
          "execution_count": 21
        }
      ]
    },
    {
      "cell_type": "code",
      "source": [
        "y_test = y_test.flatten()\n",
        "plot_samples(x_test, y_test, 1)"
      ],
      "metadata": {
        "id": "LktWYKySrvY-",
        "outputId": "16168126-62f1-406b-eacd-845a22520908",
        "colab": {
          "base_uri": "https://localhost:8080/",
          "height": 237
        }
      },
      "execution_count": 24,
      "outputs": [
        {
          "output_type": "display_data",
          "data": {
            "text/plain": [
              "<Figure size 1500x200 with 1 Axes>"
            ],
            "image/png": "[encoded data removed]"
          },
          "metadata": {}
        }
      ]
    },
    {
      "cell_type": "code",
      "source": [
        "y_pred = cnn.predict(x_test)"
      ],
      "metadata": {
        "id": "4MiN3sDOskPG",
        "outputId": "975d9593-ea10-4548-9e9f-e1d5df33338e",
        "colab": {
          "base_uri": "https://localhost:8080/"
        }
      },
      "execution_count": 25,
      "outputs": [
        {
          "output_type": "stream",
          "name": "stdout",
          "text": [
            "313/313 [==============================] - 1s 3ms/step\n"
          ]
        }
      ]
    },
    {
      "cell_type": "code",
      "source": [
        "y_pred[:5]"
      ],
      "metadata": {
        "id": "-YSRHklqsrhl",
        "outputId": "7e1bd4fd-8b90-4ad9-de5e-9fc53d33b02b",
        "colab": {
          "base_uri": "https://localhost:8080/"
        }
      },
      "execution_count": 26,
      "outputs": [
        {
          "output_type": "execute_result",
          "data": {
            "text/plain": [
              "array([[9.34632681e-03, 1.86369551e-04, 1.27946541e-01, 5.75915098e-01,\n",
              "        6.52724272e-03, 2.21339703e-01, 3.41854952e-02, 2.85261427e-03,\n",
              "        2.05339640e-02, 1.16664229e-03],\n",
              "       [7.09702820e-02, 2.67772138e-01, 1.50788037e-04, 3.00103693e-05,\n",
              "        4.29711436e-05, 2.19458780e-05, 1.41765486e-06, 9.88869760e-06,\n",
              "        6.13701582e-01, 4.72989231e-02],\n",
              "       [1.05241932e-01, 1.33789286e-01, 1.94649410e-03, 2.78243446e-03,\n",
              "        3.25232116e-03, 1.05447276e-03, 1.03000806e-04, 1.21579680e-03,\n",
              "        7.20402777e-01, 3.02114822e-02],\n",
              "       [7.55770922e-01, 2.12364714e-03, 1.04251122e-02, 8.53482052e-04,\n",
              "        9.08776093e-03, 1.99956950e-04, 3.76521319e-04, 3.26881022e-03,\n",
              "        2.17287347e-01, 6.06452755e-04],\n",
              "       [9.04285334e-05, 1.18674303e-04, 2.33822260e-02, 1.46644086e-01,\n",
              "        7.03383625e-01, 7.99208656e-02, 4.30037528e-02, 1.17440696e-03,\n",
              "        1.97557895e-03, 3.06413334e-04]], dtype=float32)"
            ]
          },
          "metadata": {},
          "execution_count": 26
        }
      ]
    },
    {
      "cell_type": "code",
      "source": [
        "y_class = [np.argmax(element) for element in y_pred]\n",
        "y_class[:5]"
      ],
      "metadata": {
        "id": "Ypier043tChv",
        "outputId": "3c3eb043-cb97-4cdc-fd03-f11023f9c031",
        "colab": {
          "base_uri": "https://localhost:8080/"
        }
      },
      "execution_count": 27,
      "outputs": [
        {
          "output_type": "execute_result",
          "data": {
            "text/plain": [
              "[3, 8, 8, 0, 4]"
            ]
          },
          "metadata": {},
          "execution_count": 27
        }
      ]
    },
    {
      "cell_type": "code",
      "source": [
        "plot_samples(x_test,y_test,0)"
      ],
      "metadata": {
        "id": "NbJj78AhtdfB",
        "outputId": "bc22b83b-c15d-461d-e572-af5f3cbdcb77",
        "colab": {
          "base_uri": "https://localhost:8080/",
          "height": 237
        }
      },
      "execution_count": 29,
      "outputs": [
        {
          "output_type": "display_data",
          "data": {
            "text/plain": [
              "<Figure size 1500x200 with 1 Axes>"
            ],
            "image/png": "[encoded data removed]"
          },
          "metadata": {}
        }
      ]
    },
    {
      "cell_type": "code",
      "source": [
        "classes[y_class[0]]"
      ],
      "metadata": {
        "id": "GDETNIw8tm8-",
        "outputId": "2071a08b-1659-4677-947f-75b97e5c4d73",
        "colab": {
          "base_uri": "https://localhost:8080/",
          "height": 36
        }
      },
      "execution_count": 30,
      "outputs": [
        {
          "output_type": "execute_result",
          "data": {
            "text/plain": [
              "'cat'"
            ],
            "application/vnd.google.colaboratory.intrinsic+json": {
              "type": "string"
            }
          },
          "metadata": {},
          "execution_count": 30
        }
      ]
    }
  ]
}